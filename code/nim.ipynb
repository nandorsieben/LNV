{
 "cells": [
  {
   "cell_type": "markdown",
   "id": "c88c3fba",
   "metadata": {},
   "source": [
    "Code to compute extneded nim-values of the positions of a finite digraph."
   ]
  },
  {
   "cell_type": "code",
   "execution_count": 5,
   "id": "ef5f96c3",
   "metadata": {},
   "outputs": [],
   "source": [
    "from typing import Union\n",
    "\n",
    "INF=float('inf')\n",
    "Tnim = Union[int,type(INF)]\n",
    "\n",
    "def mex(nims:set[Tnim])->int:\n",
    "  result=0\n",
    "  while result in nims:\n",
    "    result+=1\n",
    "  return result\n",
    "\n",
    "def compute_nims(Opt:dict[type,list[type]],withsets=0)->dict[type,Tnim]:\n",
    "  nim={v:INF for v in Opt}\n",
    "  done=False\n",
    "  while not done:\n",
    "    done=True\n",
    "    for u in nim:\n",
    "      if nim[u]<INF:\n",
    "        continue\n",
    "      nopt={nim[v] for v in Opt[u]}\n",
    "      m=mex(nopt)\n",
    "      if INF not in nopt:\n",
    "        nim[u]=m\n",
    "      else:\n",
    "        inf_opt=(v for v in Opt[u] if nim[v]==INF)\n",
    "        if all([any((nim[w]==m for w in Opt[v])) for v in inf_opt]):\n",
    "          nim[u]=m\n",
    "      if nim[u]<INF:\n",
    "        done=False\n",
    "  if withsets:\n",
    "    nimcp=dict(nim)\n",
    "    for u in nim:\n",
    "      if nim[u]==INF:\n",
    "        nim[u]=list({nimcp[v] for v in Opt[u] if nimcp[v]!=INF})\n",
    "  return nim"
   ]
  },
  {
   "cell_type": "markdown",
   "id": "928fbe01",
   "metadata": {},
   "source": [
    "Define optionsets as a dictionary and compute the nim-values."
   ]
  },
  {
   "cell_type": "code",
   "execution_count": 6,
   "id": "a94dad1b",
   "metadata": {},
   "outputs": [
    {
     "name": "stdout",
     "output_type": "stream",
     "text": [
      "{'a': 1, 'b': 0, 'c': 2, 'd': 2, 'e': inf, 'f': inf}\n",
      "{'a': 1, 'b': 0, 'c': 2, 'd': 2, 'e': [2], 'f': []}\n"
     ]
    }
   ],
   "source": [
    "# Opt={'a':[],'b':['a','c'],'c':['c','b']}\n",
    "# Opt={'a':[],'b':['a'],'c':['b']}\n",
    "Opt={'a':['b'],'b':[],'c':['a','b','e'],'d':['a','b'],'e':['d','f'],'f':['f']}\n",
    "print(compute_nims(Opt))\n",
    "nim=compute_nims(Opt,withsets=1)\n",
    "print(nim)"
   ]
  },
  {
   "cell_type": "markdown",
   "id": "b97d9326",
   "metadata": {},
   "source": [
    "The rest is only needed for visualization. Use the other layouts if graphviz is not available."
   ]
  },
  {
   "cell_type": "code",
   "execution_count": 7,
   "id": "a055526b",
   "metadata": {},
   "outputs": [],
   "source": [
    "import networkx as nx\n",
    "import matplotlib.pyplot as plt\n",
    "from networkx.drawing.nx_agraph import graphviz_layout\n",
    "\n",
    "def draw(Opt,nim=[]):\n",
    "  plt.figure(figsize=[2.1,2.1])\n",
    "  D=nx.DiGraph(Opt)\n",
    "  # pos=nx.circular_layout(D)\n",
    "  # pos=nx.spring_layout(D,iterations=10000)\n",
    "  pos=graphviz_layout(D,prog='neato')\n",
    "  if nim:\n",
    "    nx.draw(D,pos,labels=nim,with_labels=True,node_color='lightgreen', arrows=True)\n",
    "  else:\n",
    "    nx.draw(D,pos,with_labels=True, arrows=True)\n",
    "  plt.show()\n"
   ]
  },
  {
   "cell_type": "markdown",
   "id": "aa8a7425",
   "metadata": {},
   "source": [
    "Visualize the graph with original labels and nim-values."
   ]
  },
  {
   "cell_type": "code",
   "execution_count": 8,
   "id": "70ce59e7",
   "metadata": {},
   "outputs": [
    {
     "data": {
      "image/png": "[encoded data removed]",
      "text/plain": [
       "<Figure size 151.2x151.2 with 1 Axes>"
      ]
     },
     "metadata": {},
     "output_type": "display_data"
    },
    {
     "data": {
      "image/png": "[encoded data removed]",
      "text/plain": [
       "<Figure size 151.2x151.2 with 1 Axes>"
      ]
     },
     "metadata": {},
     "output_type": "display_data"
    }
   ],
   "source": [
    "draw(Opt)\n",
    "draw(Opt,nim)"
   ]
  }
 ],
 "metadata": {
  "kernelspec": {
   "display_name": "Python 3",
   "language": "python",
   "name": "python3"
  },
  "language_info": {
   "codemirror_mode": {
    "name": "ipython",
    "version": 3
   },
   "file_extension": ".py",
   "mimetype": "text/x-python",
   "name": "python",
   "nbconvert_exporter": "python",
   "pygments_lexer": "ipython3",
   "version": "3.10.12"
  }
 },
 "nbformat": 4,
 "nbformat_minor": 5
}
